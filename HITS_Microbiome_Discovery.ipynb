{
  "nbformat": 4,
  "nbformat_minor": 0,
  "metadata": {
    "colab": {
      "name": "HITS_Microbiome_Discovery.ipynb",
      "provenance": [],
      "authorship_tag": "ABX9TyMIxSLkptittHd6jX/VeAmH",
      "include_colab_link": true
    },
    "kernelspec": {
      "name": "python3",
      "display_name": "Python 3"
    },
    "language_info": {
      "name": "python"
    }
  },
  "cells": [
    {
      "cell_type": "markdown",
      "metadata": {
        "id": "view-in-github",
        "colab_type": "text"
      },
      "source": [
        "<a href=\"https://colab.research.google.com/github/pjd-code/HITS_Microbiome_Discovery/blob/main/HITS_Microbiome_Discovery.ipynb\" target=\"_parent\"><img src=\"https://colab.research.google.com/assets/colab-badge.svg\" alt=\"Open In Colab\"/></a>"
      ]
    },
    {
      "cell_type": "markdown",
      "source": [
        "![HITS Logo](https://github.com/pjd-code/HITS_Visualizations-/blob/main/HITS.png?raw=true)"
      ],
      "metadata": {
        "id": "TNU4HhaVSBXI"
      }
    },
    {
      "cell_type": "markdown",
      "source": [
        "# **Preparing the Notebook**\n",
        "\n",
        "We will be using Google Colab notebooks for our microbiome analysis. There are several advantages to this. First, Colab notebooks are entirly cloud based and will run on any operating system this is important since Qiime2 will only work with unix systems and currently does not run on Windows. Second, it allows us to standardize and share our workflows so that other scientist can more easily replicate (or disprove) our results.\n",
        "\n"
      ],
      "metadata": {
        "id": "agND8SHRNmO2"
      }
    },
    {
      "cell_type": "code",
      "source": [
        "#clean up the Colab environment\n",
        "%cd /content/sample_data\n",
        "!rm *.csv\n",
        "!rm *.md\n",
        "!rm *.json\n",
        "%cd /content/sample_data"
      ],
      "metadata": {
        "id": "evgADkHFNpqq"
      },
      "execution_count": null,
      "outputs": []
    },
    {
      "cell_type": "code",
      "source": [
        "#mount your google drive with the following command\n",
        "from google.colab import drive\n",
        "drive.mount('/content/drive')"
      ],
      "metadata": {
        "id": "oGyL5rniN0XV"
      },
      "execution_count": null,
      "outputs": []
    },
    {
      "cell_type": "code",
      "execution_count": null,
      "metadata": {
        "id": "luSWgEF-MrjJ"
      },
      "outputs": [],
      "source": [
        "!git clone https://github.com/pjd-code/HITS_Microbiome_Discovery.git"
      ]
    },
    {
      "cell_type": "code",
      "source": [
        "%run /content/sample_data/HITS_Microbiome_Discovery/QIIME2_SETUP.py"
      ],
      "metadata": {
        "id": "NbAqPQhbOgDV"
      },
      "execution_count": null,
      "outputs": []
    },
    {
      "cell_type": "code",
      "source": [
        ""
      ],
      "metadata": {
        "id": "92ApKWsfQcSc"
      },
      "execution_count": null,
      "outputs": []
    },
    {
      "cell_type": "markdown",
      "source": [
        "# **Sample Processing**"
      ],
      "metadata": {
        "id": "ZDe0MhTWShBs"
      }
    },
    {
      "cell_type": "markdown",
      "source": [
        "**!**qiime dada2 denoise-paired \\\n",
        "  --i-demultiplexed-seqs /content/sample_data/trim/demux-paired-end.qza \\\n",
        "  --p-trunc-len-f 50 \\\n",
        "  --p-trunc-len-r 110 \\\n",
        "  --p-trim-left-f 0 \\\n",
        "  --p-trim-left-r 0 \\\n",
        "  --o-representative-sequences rep-seqs-dada2.qza \\\n",
        "  --o-table table-dada2.qza \\\n",
        "  --o-denoising-stats stats-dada2.qza"
      ],
      "metadata": {
        "id": "ztA3szXclIhC"
      }
    },
    {
      "cell_type": "code",
      "source": [
        ""
      ],
      "metadata": {
        "id": "oaSBZhnxlMNu"
      },
      "execution_count": null,
      "outputs": []
    },
    {
      "cell_type": "markdown",
      "source": [
        "![Primer Design](https://github.com/pjd-code/HITS_Visualizations-/blob/main/primer%20design.png?raw=true)"
      ],
      "metadata": {
        "id": "mV2LC5dcTQIc"
      }
    },
    {
      "cell_type": "markdown",
      "source": [
        "![]()"
      ],
      "metadata": {
        "id": "472RZ0joTPjQ"
      }
    },
    {
      "cell_type": "markdown",
      "source": [
        "![Anatomy of a QIIME2 Command](https://github.com/pjd-code/HITS_Visualizations-/blob/main/anatomy_of_qiime_cmd.png?raw=true\n",
        ")"
      ],
      "metadata": {
        "id": "W5xwhndfTPUU"
      }
    },
    {
      "cell_type": "markdown",
      "source": [
        "![Judging Read Quality](https://github.com/pjd-code/HITS_Visualizations-/blob/main/read_quality.png?raw=true)"
      ],
      "metadata": {
        "id": "zxfa_AbiTvaE"
      }
    },
    {
      "cell_type": "markdown",
      "source": [
        "![Grafic Abstract](https://github.com/pjd-code/HITS_Visualizations-/blob/main/grafic_abstract.jpg?raw=true)\n",
        "\n",
        "Pleas have a look at the grafic abstract."
      ],
      "metadata": {
        "id": "qYQMy3gyV9b5"
      }
    },
    {
      "cell_type": "markdown",
      "source": [
        "![WorkFlow](https://github.com/pjd-code/HITS_Visualizations-/blob/main/workflow_graphic.png?raw=true)"
      ],
      "metadata": {
        "id": "tgeUtTzyT42e"
      }
    },
    {
      "cell_type": "markdown",
      "source": [
        "\"**References:**\n",
        "\n",
        "Christian Diener, setup_qiime2.py, (2020), GitHub repository, https://gist.github.com/cdiener/be2e4caded84dcdcba8b2b0c0e0771d3\n",
        "\n",
        "\n",
        "Bolyen E, Rideout JR, Dillon MR, Bokulich NA, Abnet CC, Al-Ghalith GA, Alexander H, Alm EJ, Arumugam M, Asnicar F, Bai Y, Bisanz JE, Bittinger K, Brejnrod A, Brislawn CJ, Brown CT, Callahan BJ, Caraballo-Rodríguez AM, Chase J, Cope EK, Da Silva R, Diener C, Dorrestein PC, Douglas GM, Durall DM, Duvallet C, Edwardson CF, Ernst M, Estaki M, Fouquier J, Gauglitz JM, Gibbons SM, Gibson DL, Gonzalez A, Gorlick K, Guo J, Hillmann B, Holmes S, Holste H, Huttenhower C, Huttley GA, Janssen S, Jarmusch AK, Jiang L, Kaehler BD, Kang KB, Keefe CR, Keim P, Kelley ST, Knights D, Koester I, Kosciolek T, Kreps J, Langille MGI, Lee J, Ley R, Liu YX, Loftfield E, Lozupone C, Maher M, Marotz C, Martin BD, McDonald D, McIver LJ, Melnik AV, Metcalf JL, Morgan SC, Morton JT, Naimey AT, Navas-Molina JA, Nothias LF, Orchanian SB, Pearson T, Peoples SL, Petras D, Preuss ML, Pruesse E, Rasmussen LB, Rivers A, Robeson MS, Rosenthal P, Segata N, Shaffer M, Shiffer A, Sinha R, Song SJ, Spear JR, Swafford AD, Thompson LR, Torres PJ, Trinh P, Tripathi A, Turnbaugh PJ, Ul-Hasan S, van der Hooft JJJ, Vargas F, Vázquez-Baeza Y, Vogtmann E, von Hippel M, Walters W, Wan Y, Wang M, Warren J, Weber KC, Williamson CHD, Willis AD, Xu ZZ, Zaneveld JR, Zhang Y, Zhu Q, Knight R, and Caporaso JG. 2019. ***Reproducible, interactive, scalable and extensible microbiome data science using QIIME 2.*** Nature Biotechnology 37: 852–857. https://doi.org/10.1038/s41587-019-0209-9\n",
        "\n",
        "\n",
        "Anaconda Software Distribution. 4.10.3 (2021-06-29). Anaconda Documentation. Anaconda Inc. Retrieved from https://docs.anaconda.com/\""
      ],
      "metadata": {
        "id": "x8HKZXDVXyKU"
      }
    }
  ]
}